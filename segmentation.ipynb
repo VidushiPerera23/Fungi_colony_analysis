{
 "cells": [
  {
   "cell_type": "code",
   "execution_count": 2,
   "id": "ba743e36",
   "metadata": {},
   "outputs": [
    {
     "name": "stdout",
     "output_type": "stream",
     "text": [
      "Width: 1280, Height: 1280\n"
     ]
    }
   ],
   "source": [
    "import cv2\n",
    "import numpy as np\n",
    "\n",
    "# Load the image\n",
    "path='kotmale.jpg'\n",
    "image=cv2.imread('kotmale.jpg')\n",
    "\n",
    "# Original size of the image\n",
    "height, width, channels = image.shape\n",
    "print(f\"Width: {width}, Height: {height}\")\n",
    "\n",
    "# Check if the image was loaded correctly\n",
    "if image is None:\n",
    "    print (\"Error:please check the path.\")\n",
    "    exit()"
   ]
  },
  {
   "cell_type": "code",
   "execution_count": 3,
   "id": "5c2a2e51",
   "metadata": {},
   "outputs": [],
   "source": [
    "# Resize the image\n",
    "new_width=512\n",
    "new_height=512\n",
    "resized_image=cv2.resize(image,(new_width,new_height))"
   ]
  },
  {
   "cell_type": "code",
   "execution_count": 4,
   "id": "7339f588",
   "metadata": {},
   "outputs": [
    {
     "data": {
      "text/plain": [
       "True"
      ]
     },
     "execution_count": 4,
     "metadata": {},
     "output_type": "execute_result"
    }
   ],
   "source": [
    "# Crop the image\n",
    "def crop_circle (image, radius_factor=0.6):\n",
    "    height,width=image.shape[:2]\n",
    "    mask=np.zeros((height,width), dtype=np.uint8)\n",
    "    center=(int(width/2), int(height/2))\n",
    "    original_radius= min(center[0], center[1])\n",
    "    radius=int(original_radius*radius_factor)\n",
    "    cv2.circle(mask,center,radius,(255,),-1, cv2.LINE_AA)\n",
    "    masked_image=cv2.bitwise_and(image,image,mask=mask)\n",
    "    return masked_image\n",
    "\n",
    "cropped_image=crop_circle(resized_image, radius_factor=0.6)\n",
    "cv2.imwrite('cropped.jpg', cropped_image)"
   ]
  },
  {
   "cell_type": "code",
   "execution_count": 5,
   "id": "cfd24df7",
   "metadata": {},
   "outputs": [],
   "source": [
    "# Convert the cropped image to grayscale\n",
    "gray_scaled_image = cv2.cvtColor(cropped_image, cv2.COLOR_BGR2GRAY)"
   ]
  },
  {
   "cell_type": "code",
   "execution_count": 6,
   "id": "5f5a8a89",
   "metadata": {},
   "outputs": [],
   "source": [
    "# Apply histogram equalization\n",
    "equalized_image = cv2.equalizeHist(gray_scaled_image)"
   ]
  },
  {
   "cell_type": "code",
   "execution_count": 7,
   "id": "f5460e76",
   "metadata": {},
   "outputs": [],
   "source": [
    "blurred_image = cv2.GaussianBlur(equalized_image, (3, 3), 0)"
   ]
  },
  {
   "cell_type": "code",
   "execution_count": 8,
   "id": "0d8f3104",
   "metadata": {},
   "outputs": [],
   "source": [
    "# Perform edge detection on the blurred image\n",
    "# Convert the normalized image back to an 8-bit image\n",
    "blurred_image_8bit = (blurred_image * 255).astype(np.uint8)\n",
    "edges = cv2.Canny(blurred_image_8bit, 50, 100)"
   ]
  },
  {
   "cell_type": "code",
   "execution_count": 9,
   "id": "64541705",
   "metadata": {},
   "outputs": [],
   "source": [
    "# Adaptive Thresholding\n",
    "adaptive_thresh_image = cv2.adaptiveThreshold(blurred_image_8bit, 255,\n",
    "                                              cv2.ADAPTIVE_THRESH_GAUSSIAN_C,\n",
    "                                              cv2.THRESH_BINARY_INV, 11, 2)"
   ]
  },
  {
   "cell_type": "code",
   "execution_count": 10,
   "id": "9d107810",
   "metadata": {},
   "outputs": [],
   "source": [
    "# Apply morphological operations to clean up the binary image\n",
    "kernel = np.ones((3, 3), np.uint8)\n",
    "cleaned_image = cv2.morphologyEx(adaptive_thresh_image, cv2.MORPH_CLOSE, kernel, iterations=2)"
   ]
  },
  {
   "cell_type": "code",
   "execution_count": 11,
   "id": "6d99e52e",
   "metadata": {},
   "outputs": [
    {
     "name": "stdout",
     "output_type": "stream",
     "text": [
      "Percentage of area covered by fungi colonies: 28.20%\n"
     ]
    }
   ],
   "source": [
    "# Calculate the percentage of area covered by fungi colonies\n",
    "# Count the number of white pixels in the cleaned binary image\n",
    "fungi_area = np.sum(cleaned_image == 255)\n",
    "# Calculate the total number of pixels in the image\n",
    "total_area = cleaned_image.size\n",
    "# Calculate the percentage\n",
    "fungi_percentage = (fungi_area / total_area) * 100\n",
    "print(f\"Percentage of area covered by fungi colonies: {fungi_percentage:.2f}%\")"
   ]
  },
  {
   "cell_type": "code",
   "execution_count": null,
   "id": "d4bd88e0",
   "metadata": {},
   "outputs": [],
   "source": [
    "# Display the images\n",
    "cv2.imshow('Gray scale Image', gray_scaled_image)\n",
    "cv2.imshow('Equalized Image', equalized_image)\n",
    "cv2.imshow('Blurred Image', blurred_image)\n",
    "cv2.imshow('Edges', edges)\n",
    "cv2.imshow('Adaptive Threshold Image', adaptive_thresh_image)\n",
    "cv2.imshow('Cleaned Image', cleaned_image)\n",
    "\n",
    "\n",
    "cv2.waitKey(0)\n",
    "cv2.destroyAllWindows()"
   ]
  }
 ],
 "metadata": {
  "kernelspec": {
   "display_name": "Python 3 (ipykernel)",
   "language": "python",
   "name": "python3"
  },
  "language_info": {
   "codemirror_mode": {
    "name": "ipython",
    "version": 3
   },
   "file_extension": ".py",
   "mimetype": "text/x-python",
   "name": "python",
   "nbconvert_exporter": "python",
   "pygments_lexer": "ipython3",
   "version": "3.7.16"
  }
 },
 "nbformat": 4,
 "nbformat_minor": 5
}
