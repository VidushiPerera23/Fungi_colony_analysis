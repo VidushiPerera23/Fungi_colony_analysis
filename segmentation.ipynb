{
 "cells": [
  {
   "cell_type": "code",
   "execution_count": 1,
   "id": "2dd834ea",
   "metadata": {},
   "outputs": [
    {
     "name": "stdout",
     "output_type": "stream",
     "text": [
      "Width: 1280, Height: 1280\n"
     ]
    }
   ],
   "source": [
    "import cv2\n",
    "import numpy as np\n",
    "\n",
    "# Load the image\n",
    "path='michico.jpg'\n",
    "image=cv2.imread('michico.jpg')\n",
    "\n",
    "# Original size of the image\n",
    "height, width, channels = image.shape\n",
    "print(f\"Width: {width}, Height: {height}\")"
   ]
  },
  {
   "cell_type": "code",
   "execution_count": 2,
   "id": "2d6fdbad",
   "metadata": {},
   "outputs": [],
   "source": [
    "# Check if the image was loaded correctly\n",
    "if image is None:\n",
    "    print (\"Error:please check the path.\")\n",
    "    exit()"
   ]
  },
  {
   "cell_type": "code",
   "execution_count": 3,
   "id": "028b9fdc",
   "metadata": {},
   "outputs": [],
   "source": [
    "# Resize the image\n",
    "new_width=512\n",
    "new_height=512\n",
    "resized_image=cv2.resize(image,(new_width,new_height))"
   ]
  },
  {
   "cell_type": "code",
   "execution_count": 4,
   "id": "8ddf5a45",
   "metadata": {},
   "outputs": [],
   "source": [
    "# Resize the image\n",
    "new_width=512\n",
    "new_height=512\n",
    "resized_image=cv2.resize(image,(new_width,new_height))"
   ]
  },
  {
   "cell_type": "code",
   "execution_count": 5,
   "id": "c2a3a966",
   "metadata": {},
   "outputs": [
    {
     "data": {
      "text/plain": [
       "True"
      ]
     },
     "execution_count": 5,
     "metadata": {},
     "output_type": "execute_result"
    }
   ],
   "source": [
    "# Crop the image\n",
    "def crop_circle (image, radius_factor=0.85):\n",
    "    height,width=image.shape[:2]\n",
    "    mask=np.zeros((height,width), dtype=np.uint8)\n",
    "    center=(int(width/2), int(height/2))\n",
    "    original_radius= min(center[0], center[1])\n",
    "    radius=int(original_radius*radius_factor)\n",
    "    cv2.circle(mask,center,radius,(255,),-1, cv2.LINE_AA)\n",
    "    masked_image=cv2.bitwise_and(image,image,mask=mask)\n",
    "    return masked_image\n",
    "\n",
    "cropped_image=crop_circle(resized_image, radius_factor=0.6)\n",
    "cv2.imwrite('cropped.jpg', cropped_image)"
   ]
  },
  {
   "cell_type": "code",
   "execution_count": 6,
   "id": "1f70fd6d",
   "metadata": {},
   "outputs": [],
   "source": [
    "# Convert the cropped image to grayscale\n",
    "gray_scaled_image = cv2.cvtColor(cropped_image, cv2.COLOR_BGR2GRAY)"
   ]
  },
  {
   "cell_type": "code",
   "execution_count": 7,
   "id": "2a028d4a",
   "metadata": {},
   "outputs": [],
   "source": [
    "# Normalize the image \n",
    "normalized_image= gray_scaled_image/255.0"
   ]
  },
  {
   "cell_type": "code",
   "execution_count": 8,
   "id": "67ae681d",
   "metadata": {},
   "outputs": [],
   "source": [
    "# Convert normalized image back to 8-bit format for histogram equalization\n",
    "normalized_image_8bit = (normalized_image * 255).astype(np.uint8)\n",
    "\n",
    "# Apply histogram equalization\n",
    "equalized_image = cv2.equalizeHist(normalized_image_8bit)"
   ]
  },
  {
   "cell_type": "code",
   "execution_count": 9,
   "id": "74de45e0",
   "metadata": {},
   "outputs": [],
   "source": [
    "# Read the blurred image\n",
    "blurred_image = cv2.GaussianBlur(normalized_image, (3, 3), 0)"
   ]
  },
  {
   "cell_type": "code",
   "execution_count": 10,
   "id": "3f57353f",
   "metadata": {},
   "outputs": [],
   "source": [
    "# Apply erosion and dilation to separate fungi colonies\n",
    "eroded_image = cv2.erode(blurred_image, np.ones((3, 3), np.uint8), iterations=1)\n",
    "dilated_image = cv2.dilate(eroded_image, np.ones((3, 3), np.uint8), iterations=1)"
   ]
  },
  {
   "cell_type": "code",
   "execution_count": 11,
   "id": "16f22442",
   "metadata": {},
   "outputs": [],
   "source": [
    "# Perform edge detection on the blurred image\n",
    "# Convert the normalized image back to an 8-bit image\n",
    "blurred_image_8bit = (blurred_image * 255).astype(np.uint8)\n",
    "edges = cv2.Canny(blurred_image_8bit, 50, 100)\n"
   ]
  },
  {
   "cell_type": "code",
   "execution_count": 12,
   "id": "ed34bc5f",
   "metadata": {},
   "outputs": [],
   "source": [
    "# Adaptive Thresholding\n",
    "adaptive_thresh_image = cv2.adaptiveThreshold(blurred_image_8bit, 255,\n",
    "                                              cv2.ADAPTIVE_THRESH_GAUSSIAN_C,\n",
    "                                              cv2.THRESH_BINARY_INV, 11, 2)\n",
    "\n",
    "# Otsu's Binarization\n",
    "_, otsu_thresh_image = cv2.threshold(blurred_image_8bit, 0, 255, \n",
    "                                     cv2.THRESH_BINARY_INV + cv2.THRESH_OTSU)\n",
    "\n",
    "\n"
   ]
  },
  {
   "cell_type": "code",
   "execution_count": 13,
   "id": "93f67227",
   "metadata": {},
   "outputs": [],
   "source": [
    "# Apply morphological operations to clean up the binary image\n",
    "kernel = np.ones((3, 3), np.uint8)\n",
    "cleaned_image = cv2.morphologyEx(adaptive_thresh_image, cv2.MORPH_CLOSE, kernel, iterations=2)"
   ]
  },
  {
   "cell_type": "code",
   "execution_count": 14,
   "id": "eb568f92",
   "metadata": {},
   "outputs": [
    {
     "data": {
      "text/plain": [
       "array([[[0, 0, 0],\n",
       "        [0, 0, 0],\n",
       "        [0, 0, 0],\n",
       "        ...,\n",
       "        [0, 0, 0],\n",
       "        [0, 0, 0],\n",
       "        [0, 0, 0]],\n",
       "\n",
       "       [[0, 0, 0],\n",
       "        [0, 0, 0],\n",
       "        [0, 0, 0],\n",
       "        ...,\n",
       "        [0, 0, 0],\n",
       "        [0, 0, 0],\n",
       "        [0, 0, 0]],\n",
       "\n",
       "       [[0, 0, 0],\n",
       "        [0, 0, 0],\n",
       "        [0, 0, 0],\n",
       "        ...,\n",
       "        [0, 0, 0],\n",
       "        [0, 0, 0],\n",
       "        [0, 0, 0]],\n",
       "\n",
       "       ...,\n",
       "\n",
       "       [[0, 0, 0],\n",
       "        [0, 0, 0],\n",
       "        [0, 0, 0],\n",
       "        ...,\n",
       "        [0, 0, 0],\n",
       "        [0, 0, 0],\n",
       "        [0, 0, 0]],\n",
       "\n",
       "       [[0, 0, 0],\n",
       "        [0, 0, 0],\n",
       "        [0, 0, 0],\n",
       "        ...,\n",
       "        [0, 0, 0],\n",
       "        [0, 0, 0],\n",
       "        [0, 0, 0]],\n",
       "\n",
       "       [[0, 0, 0],\n",
       "        [0, 0, 0],\n",
       "        [0, 0, 0],\n",
       "        ...,\n",
       "        [0, 0, 0],\n",
       "        [0, 0, 0],\n",
       "        [0, 0, 0]]], dtype=uint8)"
      ]
     },
     "execution_count": 14,
     "metadata": {},
     "output_type": "execute_result"
    }
   ],
   "source": [
    "# Find contours\n",
    "contours, _ = cv2.findContours(cleaned_image, cv2.RETR_EXTERNAL, cv2.CHAIN_APPROX_SIMPLE)\n",
    "\n",
    "# Draw contours on the original image\n",
    "contour_image = cropped_image.copy()\n",
    "cv2.drawContours(contour_image, contours, -1, (0, 255, 0), 2)"
   ]
  },
  {
   "cell_type": "code",
   "execution_count": 15,
   "id": "5facbbe9",
   "metadata": {},
   "outputs": [
    {
     "name": "stdout",
     "output_type": "stream",
     "text": [
      "Percentage of area covered by fungi colonies: 25.70%\n"
     ]
    }
   ],
   "source": [
    "# Calculate the percentage of area covered by fungi colonies\n",
    "# Count the number of white pixels in the cleaned binary image\n",
    "fungi_area = np.sum(cleaned_image == 255)\n",
    "# Calculate the total number of pixels in the image\n",
    "total_area = cleaned_image.size\n",
    "# Calculate the percentage\n",
    "fungi_percentage = (fungi_area / total_area) * 100\n",
    "print(f\"Percentage of area covered by fungi colonies: {fungi_percentage:.2f}%\")"
   ]
  },
  {
   "cell_type": "code",
   "execution_count": 16,
   "id": "f1295fea",
   "metadata": {},
   "outputs": [],
   "source": [
    "# Display the images\n",
    "cv2.imshow('Original Image', image)\n",
    "cv2.imshow('Edges', edges)\n",
    "cv2.imshow('Adaptive Threshold Image', adaptive_thresh_image)\n",
    "cv2.imshow('Otsu Threshold Image', otsu_thresh_image)\n",
    "cv2.imshow('Cleaned Image', cleaned_image)\n",
    "cv2.imshow('Contour Image', contour_image)\n",
    "\n",
    "\n",
    "cv2.waitKey(0)\n",
    "cv2.destroyAllWindows()"
   ]
  },
  {
   "cell_type": "code",
   "execution_count": null,
   "id": "bf714b83",
   "metadata": {},
   "outputs": [],
   "source": []
  },
  {
   "cell_type": "code",
   "execution_count": null,
   "id": "ef21671c",
   "metadata": {},
   "outputs": [],
   "source": []
  },
  {
   "cell_type": "code",
   "execution_count": null,
   "id": "8218cc57",
   "metadata": {},
   "outputs": [],
   "source": []
  }
 ],
 "metadata": {
  "kernelspec": {
   "display_name": "Python 3 (ipykernel)",
   "language": "python",
   "name": "python3"
  },
  "language_info": {
   "codemirror_mode": {
    "name": "ipython",
    "version": 3
   },
   "file_extension": ".py",
   "mimetype": "text/x-python",
   "name": "python",
   "nbconvert_exporter": "python",
   "pygments_lexer": "ipython3",
   "version": "3.7.1"
  }
 },
 "nbformat": 4,
 "nbformat_minor": 5
}
