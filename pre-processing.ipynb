{
 "cells": [
  {
   "cell_type": "code",
   "execution_count": 1,
   "id": "971e502a",
   "metadata": {},
   "outputs": [
    {
     "name": "stdout",
     "output_type": "stream",
     "text": [
      "Width: 1280, Height: 1280\n"
     ]
    }
   ],
   "source": [
    "import cv2\n",
    "import numpy as np\n",
    "\n",
    "# Load the image\n",
    "path='michico.jpg'\n",
    "image=cv2.imread('michico.jpg')\n",
    "\n",
    "# Original size of the image\n",
    "height, width, channels = image.shape\n",
    "print(f\"Width: {width}, Height: {height}\")"
   ]
  },
  {
   "cell_type": "code",
   "execution_count": 2,
   "id": "753ef33d",
   "metadata": {},
   "outputs": [],
   "source": [
    "# Check if the image was loaded correctly\n",
    "if image is None:\n",
    "    print (\"Error:please check the path.\")\n",
    "    exit()"
   ]
  },
  {
   "cell_type": "code",
   "execution_count": 3,
   "id": "480ed226",
   "metadata": {},
   "outputs": [],
   "source": [
    "# Resize the image\n",
    "new_width=512\n",
    "new_height=512\n",
    "resized_image=cv2.resize(image,(new_width,new_height))"
   ]
  },
  {
   "cell_type": "code",
   "execution_count": 4,
   "id": "8559313a",
   "metadata": {},
   "outputs": [
    {
     "data": {
      "text/plain": [
       "True"
      ]
     },
     "execution_count": 4,
     "metadata": {},
     "output_type": "execute_result"
    }
   ],
   "source": [
    "# Crop the image\n",
    "def crop_circle (image, radius_factor=0.85):\n",
    "    height,width=image.shape[:2]\n",
    "    mask=np.zeros((height,width), dtype=np.uint8)\n",
    "    center=(int(width/2), int(height/2))\n",
    "    original_radius= min(center[0], center[1])\n",
    "    radius=int(original_radius*radius_factor)\n",
    "    cv2.circle(mask,center,radius,(255,),-1, cv2.LINE_AA)\n",
    "    masked_image=cv2.bitwise_and(image,image,mask=mask)\n",
    "    return masked_image\n",
    "\n",
    "cropped_image=crop_circle(resized_image, radius_factor=0.6)\n",
    "cv2.imwrite('cropped.jpg', cropped_image)\n"
   ]
  },
  {
   "cell_type": "code",
   "execution_count": 5,
   "id": "dad483a3",
   "metadata": {},
   "outputs": [],
   "source": [
    "# Convert the cropped image to grayscale\n",
    "gray_scaled_image = cv2.cvtColor(cropped_image, cv2.COLOR_BGR2GRAY)"
   ]
  },
  {
   "cell_type": "code",
   "execution_count": 6,
   "id": "03ed270d",
   "metadata": {},
   "outputs": [],
   "source": [
    "# Normalize the image \n",
    "normalized_image= gray_scaled_image/255.0"
   ]
  },
  {
   "cell_type": "code",
   "execution_count": 7,
   "id": "f826cc01",
   "metadata": {},
   "outputs": [],
   "source": [
    "# Convert normalized image back to 8-bit format for histogram equalization\n",
    "normalized_image_8bit = (normalized_image * 255).astype(np.uint8)\n",
    "\n",
    "# Apply histogram equalization\n",
    "equalized_image = cv2.equalizeHist(normalized_image_8bit)"
   ]
  },
  {
   "cell_type": "code",
   "execution_count": 8,
   "id": "6ee94ced",
   "metadata": {},
   "outputs": [],
   "source": [
    "# Read the blurred image\n",
    "blurred_image = cv2.GaussianBlur(equalized_image , (3, 3), 0)"
   ]
  },
  {
   "cell_type": "code",
   "execution_count": 9,
   "id": "4134f951",
   "metadata": {},
   "outputs": [],
   "source": [
    "# Apply erosion and dilation to separate fungi colonies\n",
    "eroded_image = cv2.erode(blurred_image, np.ones((3, 3), np.uint8), iterations=1)\n",
    "dilated_image = cv2.dilate(eroded_image, np.ones((3, 3), np.uint8), iterations=1)"
   ]
  },
  {
   "cell_type": "code",
   "execution_count": 10,
   "id": "a138a080",
   "metadata": {},
   "outputs": [],
   "source": [
    "# Display the images\n",
    "cv2.imshow('Original Image', image)\n",
    "cv2.imshow('Resized Image', resized_image)\n",
    "cv2.imshow('Cropped Image', cropped_image)\n",
    "cv2.imshow('Gray scale Image', gray_scaled_image)\n",
    "cv2.imshow('Normalized Image', normalized_image)\n",
    "cv2.imshow('Equalized Image', equalized_image)\n",
    "cv2.imshow('Blurred Image', blurred_image)\n",
    "cv2.imshow('Eroded Image', eroded_image)\n",
    "cv2.imshow('dilated Image', dilated_image)\n",
    "\n",
    "\n",
    "cv2.waitKey(0)\n",
    "cv2.destroyAllWindows()"
   ]
  },
  {
   "cell_type": "code",
   "execution_count": null,
   "id": "52bf6710",
   "metadata": {},
   "outputs": [],
   "source": []
  },
  {
   "cell_type": "code",
   "execution_count": null,
   "id": "54e4eb96",
   "metadata": {},
   "outputs": [],
   "source": []
  },
  {
   "cell_type": "code",
   "execution_count": null,
   "id": "bc8c7a2b",
   "metadata": {},
   "outputs": [],
   "source": []
  },
  {
   "cell_type": "code",
   "execution_count": null,
   "id": "1f2f49f7",
   "metadata": {},
   "outputs": [],
   "source": []
  },
  {
   "cell_type": "code",
   "execution_count": null,
   "id": "8731b64a",
   "metadata": {},
   "outputs": [],
   "source": []
  },
  {
   "cell_type": "code",
   "execution_count": null,
   "id": "d08703a9",
   "metadata": {},
   "outputs": [],
   "source": []
  }
 ],
 "metadata": {
  "kernelspec": {
   "display_name": "Python 3 (ipykernel)",
   "language": "python",
   "name": "python3"
  },
  "language_info": {
   "codemirror_mode": {
    "name": "ipython",
    "version": 3
   },
   "file_extension": ".py",
   "mimetype": "text/x-python",
   "name": "python",
   "nbconvert_exporter": "python",
   "pygments_lexer": "ipython3",
   "version": "3.7.1"
  }
 },
 "nbformat": 4,
 "nbformat_minor": 5
}
